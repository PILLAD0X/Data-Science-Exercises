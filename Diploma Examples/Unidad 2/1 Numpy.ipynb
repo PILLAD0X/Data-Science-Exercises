{
 "cells": [
  {
   "cell_type": "markdown",
   "metadata": {},
   "source": [
    "# Importando la paquetería.\n",
    "https://numpy.org/"
   ]
  },
  {
   "cell_type": "code",
   "execution_count": 22,
   "metadata": {},
   "outputs": [],
   "source": [
    "import numpy as np"
   ]
  },
  {
   "cell_type": "markdown",
   "metadata": {},
   "source": [
    "# ¿Cómo buscar ayuda desde la libreta de Jupyter?\n",
    "- <b>Opción 1</b>: Escribir <b>np</b> luego escribir un punto y por último presionar la tecla \"<b>TAB</b>\" para mostrar diferentes opciones de autocompletado.\n",
    "- <b>Opción 2</b>: Buscar la documentación incluida con la función \"<b>np?</b>\""
   ]
  },
  {
   "cell_type": "code",
   "execution_count": 23,
   "metadata": {},
   "outputs": [],
   "source": [
    "#np?"
   ]
  },
  {
   "cell_type": "markdown",
   "metadata": {},
   "source": [
    "# Creando arreglos de números con Numpy."
   ]
  },
  {
   "cell_type": "markdown",
   "metadata": {},
   "source": [
    "### Arreglos llenos de ceros."
   ]
  },
  {
   "cell_type": "code",
   "execution_count": 24,
   "metadata": {},
   "outputs": [
    {
     "name": "stdout",
     "output_type": "stream",
     "text": [
      "[0 0 0 0 0 0 0 0 0 0]\n"
     ]
    }
   ],
   "source": [
    "arreglo = np.zeros(10, dtype = int)\n",
    "print(arreglo)"
   ]
  },
  {
   "cell_type": "code",
   "execution_count": 25,
   "metadata": {},
   "outputs": [
    {
     "name": "stdout",
     "output_type": "stream",
     "text": [
      "[False False False False False False False False False False]\n"
     ]
    }
   ],
   "source": [
    "arreglo = np.zeros(10, dtype = bool)\n",
    "print(arreglo)"
   ]
  },
  {
   "cell_type": "code",
   "execution_count": 26,
   "metadata": {},
   "outputs": [
    {
     "name": "stdout",
     "output_type": "stream",
     "text": [
      "[0. 0. 0. 0. 0. 0. 0. 0. 0. 0.]\n"
     ]
    }
   ],
   "source": [
    "arreglo = np.zeros(10, dtype = float)\n",
    "print(arreglo)"
   ]
  },
  {
   "cell_type": "markdown",
   "metadata": {},
   "source": [
    "### Arreglos llenos de unos."
   ]
  },
  {
   "cell_type": "code",
   "execution_count": 27,
   "metadata": {},
   "outputs": [
    {
     "name": "stdout",
     "output_type": "stream",
     "text": [
      "[1 1 1 1 1 1 1 1 1 1]\n"
     ]
    }
   ],
   "source": [
    "arreglo = np.ones(10, dtype = int)\n",
    "print(arreglo)"
   ]
  },
  {
   "cell_type": "code",
   "execution_count": 28,
   "metadata": {},
   "outputs": [
    {
     "name": "stdout",
     "output_type": "stream",
     "text": [
      "[ True  True  True  True  True  True  True  True  True  True]\n"
     ]
    }
   ],
   "source": [
    "arreglo = np.ones(10, dtype = bool)\n",
    "print(arreglo)"
   ]
  },
  {
   "cell_type": "code",
   "execution_count": 29,
   "metadata": {},
   "outputs": [
    {
     "name": "stdout",
     "output_type": "stream",
     "text": [
      "[1. 1. 1. 1. 1. 1. 1. 1. 1. 1.]\n"
     ]
    }
   ],
   "source": [
    "arreglo = np.ones(10, dtype = float)\n",
    "print(arreglo)"
   ]
  },
  {
   "cell_type": "markdown",
   "metadata": {},
   "source": [
    "### Arreglos llenos del mismo valor."
   ]
  },
  {
   "cell_type": "code",
   "execution_count": 30,
   "metadata": {},
   "outputs": [
    {
     "name": "stdout",
     "output_type": "stream",
     "text": [
      "[5 5 5 5 5 5 5 5 5 5]\n"
     ]
    }
   ],
   "source": [
    "arreglo = np.full(10, 5)\n",
    "print(arreglo)"
   ]
  },
  {
   "cell_type": "code",
   "execution_count": 31,
   "metadata": {},
   "outputs": [
    {
     "name": "stdout",
     "output_type": "stream",
     "text": [
      "['a' 'a' 'a' 'a' 'a' 'a' 'a' 'a' 'a' 'a']\n"
     ]
    }
   ],
   "source": [
    "arreglo = np.full(10, \"a\")\n",
    "print(arreglo)"
   ]
  },
  {
   "cell_type": "markdown",
   "metadata": {},
   "source": [
    "### Arreglos de dos dimensiones."
   ]
  },
  {
   "cell_type": "code",
   "execution_count": 32,
   "metadata": {},
   "outputs": [
    {
     "name": "stdout",
     "output_type": "stream",
     "text": [
      "[[2 2 2 2 2 2 2 2 2 2]\n",
      " [2 2 2 2 2 2 2 2 2 2]\n",
      " [2 2 2 2 2 2 2 2 2 2]\n",
      " [2 2 2 2 2 2 2 2 2 2]\n",
      " [2 2 2 2 2 2 2 2 2 2]]\n",
      "\n",
      "(5, 10)\n",
      "\n",
      "50\n"
     ]
    }
   ],
   "source": [
    "arreglo = np.full((5, 10), 2)\n",
    "# Imprimamos el arreglo.\n",
    "print(arreglo)\n",
    "print()\n",
    "# Imprimamos la forma del arreglo.\n",
    "print(arreglo.shape)\n",
    "print()\n",
    "# Imprimamos la cantidad de elementos del arreglo.\n",
    "print(arreglo.size)"
   ]
  },
  {
   "cell_type": "code",
   "execution_count": 33,
   "metadata": {},
   "outputs": [
    {
     "name": "stdout",
     "output_type": "stream",
     "text": [
      "[2 2 2 2 2 2 2 2 2 2]\n"
     ]
    }
   ],
   "source": [
    "print(arreglo[0])"
   ]
  },
  {
   "cell_type": "markdown",
   "metadata": {},
   "source": [
    "### Arreglos llenos con valores enteros aleatorios.\n",
    "https://docs.scipy.org/doc/numpy-1.15.0/reference/generated/numpy.random.randint.html"
   ]
  },
  {
   "cell_type": "code",
   "execution_count": 34,
   "metadata": {},
   "outputs": [
    {
     "name": "stdout",
     "output_type": "stream",
     "text": [
      "[14  9 13 11 10  5  7  9  9  6  9  7  8  9  7 10  9  6  6  6  9  7  7 13\n",
      "  8 10 12  5 11 11 11 11 14 14 13 11 11 13  9  9]\n"
     ]
    }
   ],
   "source": [
    "arreglo = np.random.randint(5,15,40)\n",
    "print(arreglo)"
   ]
  },
  {
   "cell_type": "markdown",
   "metadata": {},
   "source": [
    "### Arreglos llenos con valores aleatorios entre cero y uno.\n",
    "https://numpy.org/doc/1.16/reference/generated/numpy.random.random.html"
   ]
  },
  {
   "cell_type": "code",
   "execution_count": 35,
   "metadata": {},
   "outputs": [
    {
     "name": "stdout",
     "output_type": "stream",
     "text": [
      "[[0.68120423 0.02227524 0.84327306 0.0634754  0.01691695]\n",
      " [0.26442283 0.05211645 0.25864118 0.12947026 0.56490174]\n",
      " [0.33597729 0.39484057 0.89464293 0.77269624 0.45245788]\n",
      " [0.42695907 0.81017748 0.04840292 0.92583734 0.49226519]\n",
      " [0.37406284 0.3172855  0.16932091 0.17413222 0.29341768]]\n"
     ]
    }
   ],
   "source": [
    "arreglo = np.random.rand(5,5)\n",
    "print(arreglo)"
   ]
  },
  {
   "cell_type": "markdown",
   "metadata": {},
   "source": [
    "### Arreglos llenos con valores uniformemente distribuidos.\n",
    "https://docs.scipy.org/doc/numpy/reference/generated/numpy.linspace.html"
   ]
  },
  {
   "cell_type": "code",
   "execution_count": 36,
   "metadata": {},
   "outputs": [],
   "source": [
    "inicio = 0\n",
    "fin = 5\n",
    "elementos = 20"
   ]
  },
  {
   "cell_type": "code",
   "execution_count": 37,
   "metadata": {},
   "outputs": [
    {
     "name": "stdout",
     "output_type": "stream",
     "text": [
      "[0.         0.26315789 0.52631579 0.78947368 1.05263158 1.31578947\n",
      " 1.57894737 1.84210526 2.10526316 2.36842105 2.63157895 2.89473684\n",
      " 3.15789474 3.42105263 3.68421053 3.94736842 4.21052632 4.47368421\n",
      " 4.73684211 5.        ]\n"
     ]
    }
   ],
   "source": [
    "x = np.linspace(inicio, fin, elementos)\n",
    "print(x)"
   ]
  },
  {
   "cell_type": "code",
   "execution_count": 38,
   "metadata": {},
   "outputs": [
    {
     "name": "stdout",
     "output_type": "stream",
     "text": [
      "0.0\n",
      "0.2631578947368421\n",
      "5.0\n"
     ]
    }
   ],
   "source": [
    "print(x[0])\n",
    "print(x[1])\n",
    "print(x[19])"
   ]
  },
  {
   "cell_type": "markdown",
   "metadata": {},
   "source": [
    "$Elemento[0] = 0$\n",
    "<br>$Elemento[1] = Elemento[0] + 0.26315789473684210526315789473684$\n",
    "<br>$Elemento[2] = Elemento[1] + 0.26315789473684210526315789473684$\n",
    "<br>$\\vdots$\n",
    "<br>$Elemento[18] = Elemento[19] + 0.26315789473684210526315789473684$"
   ]
  },
  {
   "cell_type": "code",
   "execution_count": 39,
   "metadata": {},
   "outputs": [],
   "source": [
    "inicio = 5\n",
    "fin = 8\n",
    "elementos = 6"
   ]
  },
  {
   "cell_type": "markdown",
   "metadata": {},
   "source": [
    "### ¿Cómo calculamos la diferencia entre cada punto?\n",
    "$\\Delta = \\frac{fin - inicio}{elementos - 1}$\n",
    "<br>\n",
    "<br>$\\Delta = \\frac{8 - 5}{6 - 1}$\n",
    "<br>\n",
    "<br>$\\Delta = \\frac{3}{5}$\n",
    "<br>\n",
    "<br>$\\Delta = 0.6$"
   ]
  },
  {
   "cell_type": "code",
   "execution_count": 40,
   "metadata": {},
   "outputs": [
    {
     "name": "stdout",
     "output_type": "stream",
     "text": [
      "[5.  5.6 6.2 6.8 7.4 8. ]\n"
     ]
    }
   ],
   "source": [
    "x = np.linspace(inicio, fin, elementos)\n",
    "print(x)"
   ]
  },
  {
   "cell_type": "markdown",
   "metadata": {},
   "source": [
    "# Cambiando la forma de los arreglos."
   ]
  },
  {
   "cell_type": "code",
   "execution_count": 41,
   "metadata": {},
   "outputs": [
    {
     "name": "stdout",
     "output_type": "stream",
     "text": [
      "[ 0.          0.34482759  0.68965517  1.03448276  1.37931034  1.72413793\n",
      "  2.06896552  2.4137931   2.75862069  3.10344828  3.44827586  3.79310345\n",
      "  4.13793103  4.48275862  4.82758621  5.17241379  5.51724138  5.86206897\n",
      "  6.20689655  6.55172414  6.89655172  7.24137931  7.5862069   7.93103448\n",
      "  8.27586207  8.62068966  8.96551724  9.31034483  9.65517241 10.        ]\n"
     ]
    }
   ],
   "source": [
    "x = np.linspace(0, 10, 30)\n",
    "print(x)"
   ]
  },
  {
   "cell_type": "code",
   "execution_count": 42,
   "metadata": {},
   "outputs": [
    {
     "name": "stdout",
     "output_type": "stream",
     "text": [
      "(30,)\n"
     ]
    }
   ],
   "source": [
    "print(x.shape) #imprime la forma del arreglo"
   ]
  },
  {
   "cell_type": "code",
   "execution_count": 43,
   "metadata": {},
   "outputs": [
    {
     "name": "stdout",
     "output_type": "stream",
     "text": [
      "[[ 0.          0.34482759]\n",
      " [ 0.68965517  1.03448276]\n",
      " [ 1.37931034  1.72413793]\n",
      " [ 2.06896552  2.4137931 ]\n",
      " [ 2.75862069  3.10344828]\n",
      " [ 3.44827586  3.79310345]\n",
      " [ 4.13793103  4.48275862]\n",
      " [ 4.82758621  5.17241379]\n",
      " [ 5.51724138  5.86206897]\n",
      " [ 6.20689655  6.55172414]\n",
      " [ 6.89655172  7.24137931]\n",
      " [ 7.5862069   7.93103448]\n",
      " [ 8.27586207  8.62068966]\n",
      " [ 8.96551724  9.31034483]\n",
      " [ 9.65517241 10.        ]]\n"
     ]
    }
   ],
   "source": [
    "x = x.reshape((15,2)) # cambia la forma del arreglo\n",
    "print(x)"
   ]
  },
  {
   "cell_type": "code",
   "execution_count": 44,
   "metadata": {},
   "outputs": [
    {
     "name": "stdout",
     "output_type": "stream",
     "text": [
      "(15, 2)\n"
     ]
    }
   ],
   "source": [
    "print(x.shape)"
   ]
  },
  {
   "cell_type": "code",
   "execution_count": 45,
   "metadata": {},
   "outputs": [
    {
     "name": "stdout",
     "output_type": "stream",
     "text": [
      "[[ 0.          0.34482759  0.68965517  1.03448276  1.37931034  1.72413793]\n",
      " [ 2.06896552  2.4137931   2.75862069  3.10344828  3.44827586  3.79310345]\n",
      " [ 4.13793103  4.48275862  4.82758621  5.17241379  5.51724138  5.86206897]\n",
      " [ 6.20689655  6.55172414  6.89655172  7.24137931  7.5862069   7.93103448]\n",
      " [ 8.27586207  8.62068966  8.96551724  9.31034483  9.65517241 10.        ]]\n"
     ]
    }
   ],
   "source": [
    "x = x.reshape((5,-1))\n",
    "print(x)"
   ]
  },
  {
   "cell_type": "code",
   "execution_count": 46,
   "metadata": {},
   "outputs": [
    {
     "name": "stdout",
     "output_type": "stream",
     "text": [
      "(5, 6)\n"
     ]
    }
   ],
   "source": [
    "print(x.shape)"
   ]
  },
  {
   "cell_type": "code",
   "execution_count": 47,
   "metadata": {},
   "outputs": [
    {
     "name": "stdout",
     "output_type": "stream",
     "text": [
      "[[ 0.        ]\n",
      " [ 0.34482759]\n",
      " [ 0.68965517]\n",
      " [ 1.03448276]\n",
      " [ 1.37931034]\n",
      " [ 1.72413793]\n",
      " [ 2.06896552]\n",
      " [ 2.4137931 ]\n",
      " [ 2.75862069]\n",
      " [ 3.10344828]\n",
      " [ 3.44827586]\n",
      " [ 3.79310345]\n",
      " [ 4.13793103]\n",
      " [ 4.48275862]\n",
      " [ 4.82758621]\n",
      " [ 5.17241379]\n",
      " [ 5.51724138]\n",
      " [ 5.86206897]\n",
      " [ 6.20689655]\n",
      " [ 6.55172414]\n",
      " [ 6.89655172]\n",
      " [ 7.24137931]\n",
      " [ 7.5862069 ]\n",
      " [ 7.93103448]\n",
      " [ 8.27586207]\n",
      " [ 8.62068966]\n",
      " [ 8.96551724]\n",
      " [ 9.31034483]\n",
      " [ 9.65517241]\n",
      " [10.        ]]\n"
     ]
    }
   ],
   "source": [
    "x = x.reshape((-1,1))\n",
    "print(x)"
   ]
  },
  {
   "cell_type": "code",
   "execution_count": 48,
   "metadata": {},
   "outputs": [
    {
     "name": "stdout",
     "output_type": "stream",
     "text": [
      "(30, 1)\n"
     ]
    }
   ],
   "source": [
    "print(x.shape)"
   ]
  },
  {
   "cell_type": "markdown",
   "metadata": {},
   "source": [
    "# Haciendo operaciones con arreglos."
   ]
  },
  {
   "cell_type": "code",
   "execution_count": 49,
   "metadata": {},
   "outputs": [
    {
     "name": "stdout",
     "output_type": "stream",
     "text": [
      "[10 10 10 10 10]\n",
      "[ 2.  4.  6.  8. 10.]\n"
     ]
    }
   ],
   "source": [
    "x = np.full(5, 10)\n",
    "y = np.linspace(2, 10, 5)\n",
    "print(x)\n",
    "print(y)"
   ]
  },
  {
   "cell_type": "code",
   "execution_count": 50,
   "metadata": {},
   "outputs": [
    {
     "name": "stdout",
     "output_type": "stream",
     "text": [
      "[12. 14. 16. 18. 20.]\n"
     ]
    }
   ],
   "source": [
    "print(x + y)"
   ]
  },
  {
   "cell_type": "code",
   "execution_count": 51,
   "metadata": {},
   "outputs": [
    {
     "name": "stdout",
     "output_type": "stream",
     "text": [
      "[8. 6. 4. 2. 0.]\n"
     ]
    }
   ],
   "source": [
    "print(x - y)"
   ]
  },
  {
   "cell_type": "code",
   "execution_count": 52,
   "metadata": {},
   "outputs": [
    {
     "name": "stdout",
     "output_type": "stream",
     "text": [
      "[ 20.  40.  60.  80. 100.]\n"
     ]
    }
   ],
   "source": [
    "print(x * y)"
   ]
  },
  {
   "cell_type": "code",
   "execution_count": 53,
   "metadata": {},
   "outputs": [
    {
     "name": "stdout",
     "output_type": "stream",
     "text": [
      "[  4.  16.  36.  64. 100.]\n"
     ]
    }
   ],
   "source": [
    "print(y**2)"
   ]
  },
  {
   "cell_type": "markdown",
   "metadata": {
    "collapsed": true
   },
   "source": [
    "# Algunos operadores disponibles en Numpy\n",
    "$np.add$\n",
    "<br>$np.substract$\n",
    "<br>$np.negative$\n",
    "<br>$np.multiply$\n",
    "<br>$np.divide$\n",
    "<br>$np.power$"
   ]
  },
  {
   "cell_type": "code",
   "execution_count": 54,
   "metadata": {},
   "outputs": [
    {
     "name": "stdout",
     "output_type": "stream",
     "text": [
      "[12 12 12 12 12]\n"
     ]
    }
   ],
   "source": [
    "print(np.add(x,2))"
   ]
  },
  {
   "cell_type": "code",
   "execution_count": 55,
   "metadata": {},
   "outputs": [
    {
     "name": "stdout",
     "output_type": "stream",
     "text": [
      "[   8.   64.  216.  512. 1000.]\n"
     ]
    }
   ],
   "source": [
    "print(np.power(y,3))"
   ]
  },
  {
   "cell_type": "markdown",
   "metadata": {
    "collapsed": true
   },
   "source": [
    "# Algunas funciones disponibles en Numpy\n",
    "$np.abs$\n",
    "<br>$np.sin$\n",
    "<br>$np.cos$\n",
    "<br>$np.tan$\n",
    "<br>$np.exp$\n",
    "<br>$np.log$"
   ]
  },
  {
   "cell_type": "code",
   "execution_count": 56,
   "metadata": {},
   "outputs": [
    {
     "name": "stdout",
     "output_type": "stream",
     "text": [
      "[7.38905610e+00 5.45981500e+01 4.03428793e+02 2.98095799e+03\n",
      " 2.20264658e+04]\n"
     ]
    }
   ],
   "source": [
    "print(np.exp(y))"
   ]
  },
  {
   "cell_type": "code",
   "execution_count": 57,
   "metadata": {},
   "outputs": [
    {
     "name": "stdout",
     "output_type": "stream",
     "text": [
      "[-0.41614684 -0.65364362  0.96017029 -0.14550003 -0.83907153]\n"
     ]
    }
   ],
   "source": [
    "print(np.cos(y))"
   ]
  },
  {
   "cell_type": "markdown",
   "metadata": {
    "collapsed": true
   },
   "source": [
    "# Algunas funciones de estádistica disponibles en Numpy\n",
    "$np.min$\n",
    "<br>$np.max$\n",
    "<br>$np.std$\n",
    "<br>$np.var$\n",
    "<br>$np.median$\n",
    "<br>$np.percentile$"
   ]
  },
  {
   "cell_type": "code",
   "execution_count": 58,
   "metadata": {},
   "outputs": [
    {
     "name": "stdout",
     "output_type": "stream",
     "text": [
      "10.0\n"
     ]
    }
   ],
   "source": [
    "print(np.max(y))"
   ]
  },
  {
   "cell_type": "code",
   "execution_count": 59,
   "metadata": {},
   "outputs": [
    {
     "name": "stdout",
     "output_type": "stream",
     "text": [
      "2.8284271247461903\n"
     ]
    }
   ],
   "source": [
    "print(np.std(y))"
   ]
  },
  {
   "cell_type": "code",
   "execution_count": null,
   "metadata": {},
   "outputs": [],
   "source": []
  }
 ],
 "metadata": {
  "kernelspec": {
   "display_name": "Python 3 (ipykernel)",
   "language": "python",
   "name": "python3"
  },
  "language_info": {
   "codemirror_mode": {
    "name": "ipython",
    "version": 3
   },
   "file_extension": ".py",
   "mimetype": "text/x-python",
   "name": "python",
   "nbconvert_exporter": "python",
   "pygments_lexer": "ipython3",
   "version": "3.12.4"
  }
 },
 "nbformat": 4,
 "nbformat_minor": 2
}
