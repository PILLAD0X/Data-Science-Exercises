{
 "cells": [
  {
   "cell_type": "markdown",
   "metadata": {},
   "source": [
    "# Importando la paquetería.\n",
    "https://pandas.pydata.org/"
   ]
  },
  {
   "cell_type": "code",
   "execution_count": 54,
   "metadata": {},
   "outputs": [],
   "source": [
    "import pandas as pd"
   ]
  },
  {
   "cell_type": "markdown",
   "metadata": {},
   "source": [
    "# ¿Cómo buscar ayuda desde la libreta de Jupyter?\n",
    "- <b>Opción 1</b>: Escribir <b>pd</b> luego escribir un punto y por último presionar la tecla \"<b>TAB</b>\" para mostrar diferentes opciones de autocompletado.\n",
    "- <b>Opción 2</b>: Buscar la documentación incluida con la función \"<b>pd?</b>\""
   ]
  },
  {
   "cell_type": "code",
   "execution_count": 55,
   "metadata": {},
   "outputs": [],
   "source": [
    "#pd?"
   ]
  },
  {
   "cell_type": "markdown",
   "metadata": {
    "collapsed": true
   },
   "source": [
    "# Estructuras de Pandas:\n",
    "<b>1) Series.</b>\n",
    "<br><b>2) Dataframes.</b>"
   ]
  },
  {
   "cell_type": "markdown",
   "metadata": {},
   "source": [
    "https://es.wikipedia.org/wiki/Anexo:Entidades_federativas_de_M%C3%A9xico_por_superficie,_poblaci%C3%B3n_y_densidad"
   ]
  },
  {
   "cell_type": "code",
   "execution_count": 56,
   "metadata": {},
   "outputs": [
    {
     "data": {
      "text/plain": [
       "0    247455\n",
       "1    179355\n",
       "2    151562\n",
       "3    123317\n",
       "4     93757\n",
       "dtype: int64"
      ]
     },
     "execution_count": 56,
     "metadata": {},
     "output_type": "execute_result"
    }
   ],
   "source": [
    "estados = pd.Series([247455, 179355, 151562, 123317, 93757])\n",
    "estados"
   ]
  },
  {
   "cell_type": "code",
   "execution_count": 57,
   "metadata": {},
   "outputs": [
    {
     "data": {
      "text/plain": [
       "array([247455, 179355, 151562, 123317,  93757], dtype=int64)"
      ]
     },
     "execution_count": 57,
     "metadata": {},
     "output_type": "execute_result"
    }
   ],
   "source": [
    "estados.values"
   ]
  },
  {
   "cell_type": "code",
   "execution_count": 58,
   "metadata": {},
   "outputs": [
    {
     "data": {
      "text/plain": [
       "RangeIndex(start=0, stop=5, step=1)"
      ]
     },
     "execution_count": 58,
     "metadata": {},
     "output_type": "execute_result"
    }
   ],
   "source": [
    "estados.index"
   ]
  },
  {
   "cell_type": "code",
   "execution_count": 59,
   "metadata": {},
   "outputs": [
    {
     "data": {
      "text/plain": [
       "247455"
      ]
     },
     "execution_count": 59,
     "metadata": {},
     "output_type": "execute_result"
    }
   ],
   "source": [
    "estados[0]"
   ]
  },
  {
   "cell_type": "code",
   "execution_count": 60,
   "metadata": {},
   "outputs": [
    {
     "data": {
      "text/plain": [
       "Chihuahua    247455\n",
       "Sonora       179355\n",
       "Coahuila     151562\n",
       "Durango      123317\n",
       "Oaxaca        93757\n",
       "dtype: int64"
      ]
     },
     "execution_count": 60,
     "metadata": {},
     "output_type": "execute_result"
    }
   ],
   "source": [
    "estados = pd.Series([247455, 179355, 151562, 123317, 93757],\n",
    "                   index=['Chihuahua', 'Sonora', 'Coahuila', 'Durango', 'Oaxaca'])\n",
    "estados"
   ]
  },
  {
   "cell_type": "code",
   "execution_count": 61,
   "metadata": {},
   "outputs": [
    {
     "data": {
      "text/plain": [
       "array([247455, 179355, 151562, 123317,  93757], dtype=int64)"
      ]
     },
     "execution_count": 61,
     "metadata": {},
     "output_type": "execute_result"
    }
   ],
   "source": [
    "estados.values"
   ]
  },
  {
   "cell_type": "code",
   "execution_count": 62,
   "metadata": {},
   "outputs": [
    {
     "data": {
      "text/plain": [
       "Index(['Chihuahua', 'Sonora', 'Coahuila', 'Durango', 'Oaxaca'], dtype='object')"
      ]
     },
     "execution_count": 62,
     "metadata": {},
     "output_type": "execute_result"
    }
   ],
   "source": [
    "estados.index"
   ]
  },
  {
   "cell_type": "code",
   "execution_count": 63,
   "metadata": {},
   "outputs": [
    {
     "name": "stderr",
     "output_type": "stream",
     "text": [
      "C:\\Users\\JP1052000\\AppData\\Local\\Temp\\ipykernel_42876\\3674372752.py:1: FutureWarning: Series.__getitem__ treating keys as positions is deprecated. In a future version, integer keys will always be treated as labels (consistent with DataFrame behavior). To access a value by position, use `ser.iloc[pos]`\n",
      "  estados[0]\n"
     ]
    },
    {
     "data": {
      "text/plain": [
       "247455"
      ]
     },
     "execution_count": 63,
     "metadata": {},
     "output_type": "execute_result"
    }
   ],
   "source": [
    "estados[0]"
   ]
  },
  {
   "cell_type": "code",
   "execution_count": 64,
   "metadata": {},
   "outputs": [
    {
     "data": {
      "text/plain": [
       "247455"
      ]
     },
     "execution_count": 64,
     "metadata": {},
     "output_type": "execute_result"
    }
   ],
   "source": [
    "estados['Chihuahua']"
   ]
  },
  {
   "cell_type": "code",
   "execution_count": 65,
   "metadata": {},
   "outputs": [],
   "source": [
    "nombres = ['Chihuahua', 'Sonora', 'Coahuila', 'Durango', 'Oaxaca']\n",
    "area = [247455, 179355, 151562, 123317, 93757]\n",
    "poblacion = [3556574, 2850330, 2954915, 1754754,  3967889]\n",
    "densidad = [14, 16, 19, 14, 42]"
   ]
  },
  {
   "cell_type": "code",
   "execution_count": 66,
   "metadata": {},
   "outputs": [
    {
     "data": {
      "text/html": [
       "<div>\n",
       "<style scoped>\n",
       "    .dataframe tbody tr th:only-of-type {\n",
       "        vertical-align: middle;\n",
       "    }\n",
       "\n",
       "    .dataframe tbody tr th {\n",
       "        vertical-align: top;\n",
       "    }\n",
       "\n",
       "    .dataframe thead th {\n",
       "        text-align: right;\n",
       "    }\n",
       "</style>\n",
       "<table border=\"1\" class=\"dataframe\">\n",
       "  <thead>\n",
       "    <tr style=\"text-align: right;\">\n",
       "      <th></th>\n",
       "      <th>Area</th>\n",
       "      <th>Poblacion</th>\n",
       "      <th>Densidad</th>\n",
       "    </tr>\n",
       "  </thead>\n",
       "  <tbody>\n",
       "    <tr>\n",
       "      <th>Chihuahua</th>\n",
       "      <td>247455</td>\n",
       "      <td>3556574</td>\n",
       "      <td>14</td>\n",
       "    </tr>\n",
       "    <tr>\n",
       "      <th>Sonora</th>\n",
       "      <td>179355</td>\n",
       "      <td>2850330</td>\n",
       "      <td>16</td>\n",
       "    </tr>\n",
       "    <tr>\n",
       "      <th>Coahuila</th>\n",
       "      <td>151562</td>\n",
       "      <td>2954915</td>\n",
       "      <td>19</td>\n",
       "    </tr>\n",
       "    <tr>\n",
       "      <th>Durango</th>\n",
       "      <td>123317</td>\n",
       "      <td>1754754</td>\n",
       "      <td>14</td>\n",
       "    </tr>\n",
       "    <tr>\n",
       "      <th>Oaxaca</th>\n",
       "      <td>93757</td>\n",
       "      <td>3967889</td>\n",
       "      <td>42</td>\n",
       "    </tr>\n",
       "  </tbody>\n",
       "</table>\n",
       "</div>"
      ],
      "text/plain": [
       "             Area  Poblacion  Densidad\n",
       "Chihuahua  247455    3556574        14\n",
       "Sonora     179355    2850330        16\n",
       "Coahuila   151562    2954915        19\n",
       "Durango    123317    1754754        14\n",
       "Oaxaca      93757    3967889        42"
      ]
     },
     "execution_count": 66,
     "metadata": {},
     "output_type": "execute_result"
    }
   ],
   "source": [
    "estados = pd.DataFrame({'Area': area, 'Poblacion': poblacion, \n",
    "                       'Densidad': densidad}, index = nombres)\n",
    "estados"
   ]
  },
  {
   "cell_type": "markdown",
   "metadata": {},
   "source": [
    "# Buscar una columna completa del DF."
   ]
  },
  {
   "cell_type": "code",
   "execution_count": 67,
   "metadata": {},
   "outputs": [
    {
     "data": {
      "text/plain": [
       "Chihuahua    14\n",
       "Sonora       16\n",
       "Coahuila     19\n",
       "Durango      14\n",
       "Oaxaca       42\n",
       "Name: Densidad, dtype: int64"
      ]
     },
     "execution_count": 67,
     "metadata": {},
     "output_type": "execute_result"
    }
   ],
   "source": [
    "estados['Densidad']"
   ]
  },
  {
   "cell_type": "markdown",
   "metadata": {},
   "source": [
    "# Buscar un renglón completo del DF por indice númerico.\n",
    "df.iloc"
   ]
  },
  {
   "cell_type": "code",
   "execution_count": 68,
   "metadata": {},
   "outputs": [
    {
     "data": {
      "text/plain": [
       "Area          247455\n",
       "Poblacion    3556574\n",
       "Densidad          14\n",
       "Name: Chihuahua, dtype: int64"
      ]
     },
     "execution_count": 68,
     "metadata": {},
     "output_type": "execute_result"
    }
   ],
   "source": [
    "estados.iloc[0]"
   ]
  },
  {
   "cell_type": "markdown",
   "metadata": {},
   "source": [
    "# Buscar un renglón completo por la etiqueta.\n",
    "df.loc"
   ]
  },
  {
   "cell_type": "code",
   "execution_count": 69,
   "metadata": {},
   "outputs": [
    {
     "data": {
      "text/plain": [
       "Area          247455\n",
       "Poblacion    3556574\n",
       "Densidad          14\n",
       "Name: Chihuahua, dtype: int64"
      ]
     },
     "execution_count": 69,
     "metadata": {},
     "output_type": "execute_result"
    }
   ],
   "source": [
    "estados.loc['Chihuahua']"
   ]
  },
  {
   "cell_type": "markdown",
   "metadata": {},
   "source": [
    "# Agregar un renglón"
   ]
  },
  {
   "cell_type": "code",
   "execution_count": 70,
   "metadata": {},
   "outputs": [
    {
     "data": {
      "text/html": [
       "<div>\n",
       "<style scoped>\n",
       "    .dataframe tbody tr th:only-of-type {\n",
       "        vertical-align: middle;\n",
       "    }\n",
       "\n",
       "    .dataframe tbody tr th {\n",
       "        vertical-align: top;\n",
       "    }\n",
       "\n",
       "    .dataframe thead th {\n",
       "        text-align: right;\n",
       "    }\n",
       "</style>\n",
       "<table border=\"1\" class=\"dataframe\">\n",
       "  <thead>\n",
       "    <tr style=\"text-align: right;\">\n",
       "      <th></th>\n",
       "      <th>Area</th>\n",
       "      <th>Poblacion</th>\n",
       "      <th>Densidad</th>\n",
       "    </tr>\n",
       "  </thead>\n",
       "  <tbody>\n",
       "    <tr>\n",
       "      <th>Chihuahua</th>\n",
       "      <td>247455</td>\n",
       "      <td>3556574</td>\n",
       "      <td>14</td>\n",
       "    </tr>\n",
       "    <tr>\n",
       "      <th>Sonora</th>\n",
       "      <td>179355</td>\n",
       "      <td>2850330</td>\n",
       "      <td>16</td>\n",
       "    </tr>\n",
       "    <tr>\n",
       "      <th>Coahuila</th>\n",
       "      <td>151562</td>\n",
       "      <td>2954915</td>\n",
       "      <td>19</td>\n",
       "    </tr>\n",
       "    <tr>\n",
       "      <th>Durango</th>\n",
       "      <td>123317</td>\n",
       "      <td>1754754</td>\n",
       "      <td>14</td>\n",
       "    </tr>\n",
       "    <tr>\n",
       "      <th>Oaxaca</th>\n",
       "      <td>93757</td>\n",
       "      <td>3967889</td>\n",
       "      <td>42</td>\n",
       "    </tr>\n",
       "    <tr>\n",
       "      <th>Tamaulipas</th>\n",
       "      <td>80249</td>\n",
       "      <td>43</td>\n",
       "      <td>3441698</td>\n",
       "    </tr>\n",
       "  </tbody>\n",
       "</table>\n",
       "</div>"
      ],
      "text/plain": [
       "              Area  Poblacion  Densidad\n",
       "Chihuahua   247455    3556574        14\n",
       "Sonora      179355    2850330        16\n",
       "Coahuila    151562    2954915        19\n",
       "Durango     123317    1754754        14\n",
       "Oaxaca       93757    3967889        42\n",
       "Tamaulipas   80249         43   3441698"
      ]
     },
     "execution_count": 70,
     "metadata": {},
     "output_type": "execute_result"
    }
   ],
   "source": [
    "estado = [80249, 43, 3441698]\n",
    "index = 'Tamaulipas'\n",
    "estados.loc[index] = estado\n",
    "estados"
   ]
  },
  {
   "cell_type": "code",
   "execution_count": 71,
   "metadata": {},
   "outputs": [
    {
     "data": {
      "text/html": [
       "<div>\n",
       "<style scoped>\n",
       "    .dataframe tbody tr th:only-of-type {\n",
       "        vertical-align: middle;\n",
       "    }\n",
       "\n",
       "    .dataframe tbody tr th {\n",
       "        vertical-align: top;\n",
       "    }\n",
       "\n",
       "    .dataframe thead th {\n",
       "        text-align: right;\n",
       "    }\n",
       "</style>\n",
       "<table border=\"1\" class=\"dataframe\">\n",
       "  <thead>\n",
       "    <tr style=\"text-align: right;\">\n",
       "      <th></th>\n",
       "      <th>Area</th>\n",
       "      <th>Poblacion</th>\n",
       "      <th>Densidad</th>\n",
       "    </tr>\n",
       "  </thead>\n",
       "  <tbody>\n",
       "    <tr>\n",
       "      <th>Chihuahua</th>\n",
       "      <td>247455</td>\n",
       "      <td>3556574</td>\n",
       "      <td>14</td>\n",
       "    </tr>\n",
       "    <tr>\n",
       "      <th>Sonora</th>\n",
       "      <td>179355</td>\n",
       "      <td>2850330</td>\n",
       "      <td>16</td>\n",
       "    </tr>\n",
       "    <tr>\n",
       "      <th>Coahuila</th>\n",
       "      <td>151562</td>\n",
       "      <td>2954915</td>\n",
       "      <td>19</td>\n",
       "    </tr>\n",
       "    <tr>\n",
       "      <th>Durango</th>\n",
       "      <td>123317</td>\n",
       "      <td>1754754</td>\n",
       "      <td>14</td>\n",
       "    </tr>\n",
       "    <tr>\n",
       "      <th>Oaxaca</th>\n",
       "      <td>93757</td>\n",
       "      <td>3967889</td>\n",
       "      <td>42</td>\n",
       "    </tr>\n",
       "    <tr>\n",
       "      <th>Tamaulipas</th>\n",
       "      <td>80249</td>\n",
       "      <td>43</td>\n",
       "      <td>3441698</td>\n",
       "    </tr>\n",
       "    <tr>\n",
       "      <th>Jalisco</th>\n",
       "      <td>78588</td>\n",
       "      <td>100</td>\n",
       "      <td>7844830</td>\n",
       "    </tr>\n",
       "  </tbody>\n",
       "</table>\n",
       "</div>"
      ],
      "text/plain": [
       "              Area  Poblacion  Densidad\n",
       "Chihuahua   247455    3556574        14\n",
       "Sonora      179355    2850330        16\n",
       "Coahuila    151562    2954915        19\n",
       "Durango     123317    1754754        14\n",
       "Oaxaca       93757    3967889        42\n",
       "Tamaulipas   80249         43   3441698\n",
       "Jalisco      78588        100   7844830"
      ]
     },
     "execution_count": 71,
     "metadata": {},
     "output_type": "execute_result"
    }
   ],
   "source": [
    "estado = [78588, 100, 7844830]\n",
    "index = 'Jalisco'\n",
    "estados.loc[index] = estado\n",
    "estados"
   ]
  },
  {
   "cell_type": "code",
   "execution_count": 72,
   "metadata": {},
   "outputs": [
    {
     "data": {
      "text/html": [
       "<div>\n",
       "<style scoped>\n",
       "    .dataframe tbody tr th:only-of-type {\n",
       "        vertical-align: middle;\n",
       "    }\n",
       "\n",
       "    .dataframe tbody tr th {\n",
       "        vertical-align: top;\n",
       "    }\n",
       "\n",
       "    .dataframe thead th {\n",
       "        text-align: right;\n",
       "    }\n",
       "</style>\n",
       "<table border=\"1\" class=\"dataframe\">\n",
       "  <thead>\n",
       "    <tr style=\"text-align: right;\">\n",
       "      <th></th>\n",
       "      <th>Area</th>\n",
       "      <th>Poblacion</th>\n",
       "      <th>Densidad</th>\n",
       "    </tr>\n",
       "  </thead>\n",
       "  <tbody>\n",
       "    <tr>\n",
       "      <th>Chihuahua</th>\n",
       "      <td>247455</td>\n",
       "      <td>3556574</td>\n",
       "      <td>14</td>\n",
       "    </tr>\n",
       "    <tr>\n",
       "      <th>Sonora</th>\n",
       "      <td>179355</td>\n",
       "      <td>2850330</td>\n",
       "      <td>16</td>\n",
       "    </tr>\n",
       "    <tr>\n",
       "      <th>Coahuila</th>\n",
       "      <td>151562</td>\n",
       "      <td>2954915</td>\n",
       "      <td>19</td>\n",
       "    </tr>\n",
       "    <tr>\n",
       "      <th>Durango</th>\n",
       "      <td>123317</td>\n",
       "      <td>1754754</td>\n",
       "      <td>14</td>\n",
       "    </tr>\n",
       "    <tr>\n",
       "      <th>Oaxaca</th>\n",
       "      <td>93757</td>\n",
       "      <td>3967889</td>\n",
       "      <td>42</td>\n",
       "    </tr>\n",
       "    <tr>\n",
       "      <th>Tamaulipas</th>\n",
       "      <td>80249</td>\n",
       "      <td>43</td>\n",
       "      <td>3441698</td>\n",
       "    </tr>\n",
       "    <tr>\n",
       "      <th>Jalisco</th>\n",
       "      <td>78588</td>\n",
       "      <td>100</td>\n",
       "      <td>7844830</td>\n",
       "    </tr>\n",
       "    <tr>\n",
       "      <th>Zacatecas</th>\n",
       "      <td>75284</td>\n",
       "      <td>21</td>\n",
       "      <td>1579209</td>\n",
       "    </tr>\n",
       "  </tbody>\n",
       "</table>\n",
       "</div>"
      ],
      "text/plain": [
       "              Area  Poblacion  Densidad\n",
       "Chihuahua   247455    3556574        14\n",
       "Sonora      179355    2850330        16\n",
       "Coahuila    151562    2954915        19\n",
       "Durango     123317    1754754        14\n",
       "Oaxaca       93757    3967889        42\n",
       "Tamaulipas   80249         43   3441698\n",
       "Jalisco      78588        100   7844830\n",
       "Zacatecas    75284         21   1579209"
      ]
     },
     "execution_count": 72,
     "metadata": {},
     "output_type": "execute_result"
    }
   ],
   "source": [
    "estado = [75284, 21, 1579209]\n",
    "index = 'Zacatecas'\n",
    "estados.loc[index] = estado\n",
    "estados"
   ]
  },
  {
   "cell_type": "code",
   "execution_count": 73,
   "metadata": {},
   "outputs": [
    {
     "data": {
      "text/html": [
       "<div>\n",
       "<style scoped>\n",
       "    .dataframe tbody tr th:only-of-type {\n",
       "        vertical-align: middle;\n",
       "    }\n",
       "\n",
       "    .dataframe tbody tr th {\n",
       "        vertical-align: top;\n",
       "    }\n",
       "\n",
       "    .dataframe thead th {\n",
       "        text-align: right;\n",
       "    }\n",
       "</style>\n",
       "<table border=\"1\" class=\"dataframe\">\n",
       "  <thead>\n",
       "    <tr style=\"text-align: right;\">\n",
       "      <th></th>\n",
       "      <th>Area</th>\n",
       "      <th>Poblacion</th>\n",
       "      <th>Densidad</th>\n",
       "    </tr>\n",
       "  </thead>\n",
       "  <tbody>\n",
       "    <tr>\n",
       "      <th>Chihuahua</th>\n",
       "      <td>247455</td>\n",
       "      <td>3556574</td>\n",
       "      <td>14</td>\n",
       "    </tr>\n",
       "    <tr>\n",
       "      <th>Sonora</th>\n",
       "      <td>179355</td>\n",
       "      <td>2850330</td>\n",
       "      <td>16</td>\n",
       "    </tr>\n",
       "    <tr>\n",
       "      <th>Coahuila</th>\n",
       "      <td>151562</td>\n",
       "      <td>2954915</td>\n",
       "      <td>19</td>\n",
       "    </tr>\n",
       "    <tr>\n",
       "      <th>Durango</th>\n",
       "      <td>123317</td>\n",
       "      <td>1754754</td>\n",
       "      <td>14</td>\n",
       "    </tr>\n",
       "    <tr>\n",
       "      <th>Oaxaca</th>\n",
       "      <td>93757</td>\n",
       "      <td>3967889</td>\n",
       "      <td>42</td>\n",
       "    </tr>\n",
       "    <tr>\n",
       "      <th>Tamaulipas</th>\n",
       "      <td>80249</td>\n",
       "      <td>43</td>\n",
       "      <td>3441698</td>\n",
       "    </tr>\n",
       "    <tr>\n",
       "      <th>Jalisco</th>\n",
       "      <td>78588</td>\n",
       "      <td>100</td>\n",
       "      <td>7844830</td>\n",
       "    </tr>\n",
       "    <tr>\n",
       "      <th>Zacatecas</th>\n",
       "      <td>75284</td>\n",
       "      <td>21</td>\n",
       "      <td>1579209</td>\n",
       "    </tr>\n",
       "    <tr>\n",
       "      <th>Baja California Sur</th>\n",
       "      <td>73909</td>\n",
       "      <td>10</td>\n",
       "      <td>712029</td>\n",
       "    </tr>\n",
       "  </tbody>\n",
       "</table>\n",
       "</div>"
      ],
      "text/plain": [
       "                       Area  Poblacion  Densidad\n",
       "Chihuahua            247455    3556574        14\n",
       "Sonora               179355    2850330        16\n",
       "Coahuila             151562    2954915        19\n",
       "Durango              123317    1754754        14\n",
       "Oaxaca                93757    3967889        42\n",
       "Tamaulipas            80249         43   3441698\n",
       "Jalisco               78588        100   7844830\n",
       "Zacatecas             75284         21   1579209\n",
       "Baja California Sur   73909         10    712029"
      ]
     },
     "execution_count": 73,
     "metadata": {},
     "output_type": "execute_result"
    }
   ],
   "source": [
    "estado = [73909, 10, 712029]\n",
    "index = 'Baja California Sur'\n",
    "estados.loc[index] = estado\n",
    "estados"
   ]
  },
  {
   "cell_type": "code",
   "execution_count": 74,
   "metadata": {},
   "outputs": [
    {
     "data": {
      "text/html": [
       "<div>\n",
       "<style scoped>\n",
       "    .dataframe tbody tr th:only-of-type {\n",
       "        vertical-align: middle;\n",
       "    }\n",
       "\n",
       "    .dataframe tbody tr th {\n",
       "        vertical-align: top;\n",
       "    }\n",
       "\n",
       "    .dataframe thead th {\n",
       "        text-align: right;\n",
       "    }\n",
       "</style>\n",
       "<table border=\"1\" class=\"dataframe\">\n",
       "  <thead>\n",
       "    <tr style=\"text-align: right;\">\n",
       "      <th></th>\n",
       "      <th>Area</th>\n",
       "      <th>Poblacion</th>\n",
       "      <th>Densidad</th>\n",
       "    </tr>\n",
       "  </thead>\n",
       "  <tbody>\n",
       "    <tr>\n",
       "      <th>Chihuahua</th>\n",
       "      <td>247455</td>\n",
       "      <td>3556574</td>\n",
       "      <td>14</td>\n",
       "    </tr>\n",
       "    <tr>\n",
       "      <th>Sonora</th>\n",
       "      <td>179355</td>\n",
       "      <td>2850330</td>\n",
       "      <td>16</td>\n",
       "    </tr>\n",
       "    <tr>\n",
       "      <th>Coahuila</th>\n",
       "      <td>151562</td>\n",
       "      <td>2954915</td>\n",
       "      <td>19</td>\n",
       "    </tr>\n",
       "    <tr>\n",
       "      <th>Durango</th>\n",
       "      <td>123317</td>\n",
       "      <td>1754754</td>\n",
       "      <td>14</td>\n",
       "    </tr>\n",
       "    <tr>\n",
       "      <th>Oaxaca</th>\n",
       "      <td>93757</td>\n",
       "      <td>3967889</td>\n",
       "      <td>42</td>\n",
       "    </tr>\n",
       "    <tr>\n",
       "      <th>Tamaulipas</th>\n",
       "      <td>80249</td>\n",
       "      <td>43</td>\n",
       "      <td>3441698</td>\n",
       "    </tr>\n",
       "    <tr>\n",
       "      <th>Jalisco</th>\n",
       "      <td>78588</td>\n",
       "      <td>100</td>\n",
       "      <td>7844830</td>\n",
       "    </tr>\n",
       "    <tr>\n",
       "      <th>Zacatecas</th>\n",
       "      <td>75284</td>\n",
       "      <td>21</td>\n",
       "      <td>1579209</td>\n",
       "    </tr>\n",
       "    <tr>\n",
       "      <th>Baja California Sur</th>\n",
       "      <td>73909</td>\n",
       "      <td>10</td>\n",
       "      <td>712029</td>\n",
       "    </tr>\n",
       "    <tr>\n",
       "      <th>Chiapas</th>\n",
       "      <td>73311</td>\n",
       "      <td>71</td>\n",
       "      <td>5217908</td>\n",
       "    </tr>\n",
       "  </tbody>\n",
       "</table>\n",
       "</div>"
      ],
      "text/plain": [
       "                       Area  Poblacion  Densidad\n",
       "Chihuahua            247455    3556574        14\n",
       "Sonora               179355    2850330        16\n",
       "Coahuila             151562    2954915        19\n",
       "Durango              123317    1754754        14\n",
       "Oaxaca                93757    3967889        42\n",
       "Tamaulipas            80249         43   3441698\n",
       "Jalisco               78588        100   7844830\n",
       "Zacatecas             75284         21   1579209\n",
       "Baja California Sur   73909         10    712029\n",
       "Chiapas               73311         71   5217908"
      ]
     },
     "execution_count": 74,
     "metadata": {},
     "output_type": "execute_result"
    }
   ],
   "source": [
    "estado = [73311, 71, 5217908]\n",
    "index = 'Chiapas'\n",
    "estados.loc[index] = estado\n",
    "estados"
   ]
  },
  {
   "cell_type": "markdown",
   "metadata": {},
   "source": [
    "# Realizar operaciones con columnas."
   ]
  },
  {
   "cell_type": "code",
   "execution_count": 75,
   "metadata": {},
   "outputs": [
    {
     "data": {
      "text/html": [
       "<div>\n",
       "<style scoped>\n",
       "    .dataframe tbody tr th:only-of-type {\n",
       "        vertical-align: middle;\n",
       "    }\n",
       "\n",
       "    .dataframe tbody tr th {\n",
       "        vertical-align: top;\n",
       "    }\n",
       "\n",
       "    .dataframe thead th {\n",
       "        text-align: right;\n",
       "    }\n",
       "</style>\n",
       "<table border=\"1\" class=\"dataframe\">\n",
       "  <thead>\n",
       "    <tr style=\"text-align: right;\">\n",
       "      <th></th>\n",
       "      <th>Area</th>\n",
       "      <th>Poblacion</th>\n",
       "      <th>Densidad</th>\n",
       "      <th>Densidad Calculada</th>\n",
       "    </tr>\n",
       "  </thead>\n",
       "  <tbody>\n",
       "    <tr>\n",
       "      <th>Chihuahua</th>\n",
       "      <td>247455</td>\n",
       "      <td>3556574</td>\n",
       "      <td>14</td>\n",
       "      <td>14.372609</td>\n",
       "    </tr>\n",
       "    <tr>\n",
       "      <th>Sonora</th>\n",
       "      <td>179355</td>\n",
       "      <td>2850330</td>\n",
       "      <td>16</td>\n",
       "      <td>15.892113</td>\n",
       "    </tr>\n",
       "    <tr>\n",
       "      <th>Coahuila</th>\n",
       "      <td>151562</td>\n",
       "      <td>2954915</td>\n",
       "      <td>19</td>\n",
       "      <td>19.496411</td>\n",
       "    </tr>\n",
       "    <tr>\n",
       "      <th>Durango</th>\n",
       "      <td>123317</td>\n",
       "      <td>1754754</td>\n",
       "      <td>14</td>\n",
       "      <td>14.229620</td>\n",
       "    </tr>\n",
       "    <tr>\n",
       "      <th>Oaxaca</th>\n",
       "      <td>93757</td>\n",
       "      <td>3967889</td>\n",
       "      <td>42</td>\n",
       "      <td>42.320989</td>\n",
       "    </tr>\n",
       "    <tr>\n",
       "      <th>Tamaulipas</th>\n",
       "      <td>80249</td>\n",
       "      <td>43</td>\n",
       "      <td>3441698</td>\n",
       "      <td>0.000536</td>\n",
       "    </tr>\n",
       "    <tr>\n",
       "      <th>Jalisco</th>\n",
       "      <td>78588</td>\n",
       "      <td>100</td>\n",
       "      <td>7844830</td>\n",
       "      <td>0.001272</td>\n",
       "    </tr>\n",
       "    <tr>\n",
       "      <th>Zacatecas</th>\n",
       "      <td>75284</td>\n",
       "      <td>21</td>\n",
       "      <td>1579209</td>\n",
       "      <td>0.000279</td>\n",
       "    </tr>\n",
       "    <tr>\n",
       "      <th>Baja California Sur</th>\n",
       "      <td>73909</td>\n",
       "      <td>10</td>\n",
       "      <td>712029</td>\n",
       "      <td>0.000135</td>\n",
       "    </tr>\n",
       "    <tr>\n",
       "      <th>Chiapas</th>\n",
       "      <td>73311</td>\n",
       "      <td>71</td>\n",
       "      <td>5217908</td>\n",
       "      <td>0.000968</td>\n",
       "    </tr>\n",
       "  </tbody>\n",
       "</table>\n",
       "</div>"
      ],
      "text/plain": [
       "                       Area  Poblacion  Densidad  Densidad Calculada\n",
       "Chihuahua            247455    3556574        14           14.372609\n",
       "Sonora               179355    2850330        16           15.892113\n",
       "Coahuila             151562    2954915        19           19.496411\n",
       "Durango              123317    1754754        14           14.229620\n",
       "Oaxaca                93757    3967889        42           42.320989\n",
       "Tamaulipas            80249         43   3441698            0.000536\n",
       "Jalisco               78588        100   7844830            0.001272\n",
       "Zacatecas             75284         21   1579209            0.000279\n",
       "Baja California Sur   73909         10    712029            0.000135\n",
       "Chiapas               73311         71   5217908            0.000968"
      ]
     },
     "execution_count": 75,
     "metadata": {},
     "output_type": "execute_result"
    }
   ],
   "source": [
    "estados['Densidad Calculada'] = estados['Poblacion'] / estados['Area']\n",
    "estados"
   ]
  },
  {
   "cell_type": "code",
   "execution_count": 76,
   "metadata": {},
   "outputs": [
    {
     "data": {
      "text/html": [
       "<div>\n",
       "<style scoped>\n",
       "    .dataframe tbody tr th:only-of-type {\n",
       "        vertical-align: middle;\n",
       "    }\n",
       "\n",
       "    .dataframe tbody tr th {\n",
       "        vertical-align: top;\n",
       "    }\n",
       "\n",
       "    .dataframe thead th {\n",
       "        text-align: right;\n",
       "    }\n",
       "</style>\n",
       "<table border=\"1\" class=\"dataframe\">\n",
       "  <thead>\n",
       "    <tr style=\"text-align: right;\">\n",
       "      <th></th>\n",
       "      <th>Area</th>\n",
       "      <th>Poblacion</th>\n",
       "      <th>Densidad</th>\n",
       "      <th>Densidad Calculada</th>\n",
       "      <th>Error Aprox</th>\n",
       "    </tr>\n",
       "  </thead>\n",
       "  <tbody>\n",
       "    <tr>\n",
       "      <th>Chihuahua</th>\n",
       "      <td>247455</td>\n",
       "      <td>3556574</td>\n",
       "      <td>14</td>\n",
       "      <td>14.372609</td>\n",
       "      <td>2.592495e+00</td>\n",
       "    </tr>\n",
       "    <tr>\n",
       "      <th>Sonora</th>\n",
       "      <td>179355</td>\n",
       "      <td>2850330</td>\n",
       "      <td>16</td>\n",
       "      <td>15.892113</td>\n",
       "      <td>6.788688e-01</td>\n",
       "    </tr>\n",
       "    <tr>\n",
       "      <th>Coahuila</th>\n",
       "      <td>151562</td>\n",
       "      <td>2954915</td>\n",
       "      <td>19</td>\n",
       "      <td>19.496411</td>\n",
       "      <td>2.546165e+00</td>\n",
       "    </tr>\n",
       "    <tr>\n",
       "      <th>Durango</th>\n",
       "      <td>123317</td>\n",
       "      <td>1754754</td>\n",
       "      <td>14</td>\n",
       "      <td>14.229620</td>\n",
       "      <td>1.613673e+00</td>\n",
       "    </tr>\n",
       "    <tr>\n",
       "      <th>Oaxaca</th>\n",
       "      <td>93757</td>\n",
       "      <td>3967889</td>\n",
       "      <td>42</td>\n",
       "      <td>42.320989</td>\n",
       "      <td>7.584638e-01</td>\n",
       "    </tr>\n",
       "    <tr>\n",
       "      <th>Tamaulipas</th>\n",
       "      <td>80249</td>\n",
       "      <td>43</td>\n",
       "      <td>3441698</td>\n",
       "      <td>0.000536</td>\n",
       "      <td>6.423089e+11</td>\n",
       "    </tr>\n",
       "    <tr>\n",
       "      <th>Jalisco</th>\n",
       "      <td>78588</td>\n",
       "      <td>100</td>\n",
       "      <td>7844830</td>\n",
       "      <td>0.001272</td>\n",
       "      <td>6.165095e+11</td>\n",
       "    </tr>\n",
       "    <tr>\n",
       "      <th>Zacatecas</th>\n",
       "      <td>75284</td>\n",
       "      <td>21</td>\n",
       "      <td>1579209</td>\n",
       "      <td>0.000279</td>\n",
       "      <td>5.661389e+11</td>\n",
       "    </tr>\n",
       "    <tr>\n",
       "      <th>Baja California Sur</th>\n",
       "      <td>73909</td>\n",
       "      <td>10</td>\n",
       "      <td>712029</td>\n",
       "      <td>0.000135</td>\n",
       "      <td>5.262535e+11</td>\n",
       "    </tr>\n",
       "    <tr>\n",
       "      <th>Chiapas</th>\n",
       "      <td>73311</td>\n",
       "      <td>71</td>\n",
       "      <td>5217908</td>\n",
       "      <td>0.000968</td>\n",
       "      <td>5.387747e+11</td>\n",
       "    </tr>\n",
       "  </tbody>\n",
       "</table>\n",
       "</div>"
      ],
      "text/plain": [
       "                       Area  Poblacion  Densidad  Densidad Calculada  \\\n",
       "Chihuahua            247455    3556574        14           14.372609   \n",
       "Sonora               179355    2850330        16           15.892113   \n",
       "Coahuila             151562    2954915        19           19.496411   \n",
       "Durango              123317    1754754        14           14.229620   \n",
       "Oaxaca                93757    3967889        42           42.320989   \n",
       "Tamaulipas            80249         43   3441698            0.000536   \n",
       "Jalisco               78588        100   7844830            0.001272   \n",
       "Zacatecas             75284         21   1579209            0.000279   \n",
       "Baja California Sur   73909         10    712029            0.000135   \n",
       "Chiapas               73311         71   5217908            0.000968   \n",
       "\n",
       "                      Error Aprox  \n",
       "Chihuahua            2.592495e+00  \n",
       "Sonora               6.788688e-01  \n",
       "Coahuila             2.546165e+00  \n",
       "Durango              1.613673e+00  \n",
       "Oaxaca               7.584638e-01  \n",
       "Tamaulipas           6.423089e+11  \n",
       "Jalisco              6.165095e+11  \n",
       "Zacatecas            5.661389e+11  \n",
       "Baja California Sur  5.262535e+11  \n",
       "Chiapas              5.387747e+11  "
      ]
     },
     "execution_count": 76,
     "metadata": {},
     "output_type": "execute_result"
    }
   ],
   "source": [
    "estados['Error Aprox'] = abs(estados['Densidad Calculada'] - estados['Densidad']) / estados['Densidad Calculada'] * 100\n",
    "estados"
   ]
  },
  {
   "cell_type": "markdown",
   "metadata": {},
   "source": [
    "# Ordenar columnas."
   ]
  },
  {
   "cell_type": "code",
   "execution_count": 77,
   "metadata": {},
   "outputs": [
    {
     "data": {
      "text/plain": [
       "['Area', 'Poblacion', 'Densidad', 'Densidad Calculada', 'Error Aprox']"
      ]
     },
     "execution_count": 77,
     "metadata": {},
     "output_type": "execute_result"
    }
   ],
   "source": [
    "cols = ['Area', 'Poblacion', 'Densidad', 'Densidad Calculada', 'Error Aprox']\n",
    "cols"
   ]
  },
  {
   "cell_type": "code",
   "execution_count": 78,
   "metadata": {},
   "outputs": [
    {
     "ename": "AttributeError",
     "evalue": "'DataFrame' object has no attribute 'ix'",
     "output_type": "error",
     "traceback": [
      "\u001b[1;31m---------------------------------------------------------------------------\u001b[0m",
      "\u001b[1;31mAttributeError\u001b[0m                            Traceback (most recent call last)",
      "\u001b[1;32m~\\AppData\\Local\\Temp\\ipykernel_42876\\3220147661.py\u001b[0m in \u001b[0;36m?\u001b[1;34m()\u001b[0m\n\u001b[1;32m----> 1\u001b[1;33m \u001b[0mestados\u001b[0m \u001b[1;33m=\u001b[0m \u001b[0mestados\u001b[0m\u001b[1;33m.\u001b[0m\u001b[0mix\u001b[0m\u001b[1;33m[\u001b[0m\u001b[1;33m:\u001b[0m\u001b[1;33m,\u001b[0m \u001b[0mcols\u001b[0m\u001b[1;33m]\u001b[0m\u001b[1;33m\u001b[0m\u001b[1;33m\u001b[0m\u001b[0m\n\u001b[0m\u001b[0;32m      2\u001b[0m \u001b[0mestados\u001b[0m\u001b[1;33m\u001b[0m\u001b[1;33m\u001b[0m\u001b[0m\n",
      "\u001b[1;32mc:\\Users\\JP1052000\\AppData\\Local\\anaconda3\\Lib\\site-packages\\pandas\\core\\generic.py\u001b[0m in \u001b[0;36m?\u001b[1;34m(self, name)\u001b[0m\n\u001b[0;32m   6295\u001b[0m             \u001b[1;32mand\u001b[0m \u001b[0mname\u001b[0m \u001b[1;32mnot\u001b[0m \u001b[1;32min\u001b[0m \u001b[0mself\u001b[0m\u001b[1;33m.\u001b[0m\u001b[0m_accessors\u001b[0m\u001b[1;33m\u001b[0m\u001b[1;33m\u001b[0m\u001b[0m\n\u001b[0;32m   6296\u001b[0m             \u001b[1;32mand\u001b[0m \u001b[0mself\u001b[0m\u001b[1;33m.\u001b[0m\u001b[0m_info_axis\u001b[0m\u001b[1;33m.\u001b[0m\u001b[0m_can_hold_identifiers_and_holds_name\u001b[0m\u001b[1;33m(\u001b[0m\u001b[0mname\u001b[0m\u001b[1;33m)\u001b[0m\u001b[1;33m\u001b[0m\u001b[1;33m\u001b[0m\u001b[0m\n\u001b[0;32m   6297\u001b[0m         \u001b[1;33m)\u001b[0m\u001b[1;33m:\u001b[0m\u001b[1;33m\u001b[0m\u001b[1;33m\u001b[0m\u001b[0m\n\u001b[0;32m   6298\u001b[0m             \u001b[1;32mreturn\u001b[0m \u001b[0mself\u001b[0m\u001b[1;33m[\u001b[0m\u001b[0mname\u001b[0m\u001b[1;33m]\u001b[0m\u001b[1;33m\u001b[0m\u001b[1;33m\u001b[0m\u001b[0m\n\u001b[1;32m-> 6299\u001b[1;33m         \u001b[1;32mreturn\u001b[0m \u001b[0mobject\u001b[0m\u001b[1;33m.\u001b[0m\u001b[0m__getattribute__\u001b[0m\u001b[1;33m(\u001b[0m\u001b[0mself\u001b[0m\u001b[1;33m,\u001b[0m \u001b[0mname\u001b[0m\u001b[1;33m)\u001b[0m\u001b[1;33m\u001b[0m\u001b[1;33m\u001b[0m\u001b[0m\n\u001b[0m",
      "\u001b[1;31mAttributeError\u001b[0m: 'DataFrame' object has no attribute 'ix'"
     ]
    }
   ],
   "source": [
    "estados = estados.ix[:, cols]\n",
    "estados"
   ]
  },
  {
   "cell_type": "code",
   "execution_count": 79,
   "metadata": {},
   "outputs": [
    {
     "data": {
      "text/html": [
       "<div>\n",
       "<style scoped>\n",
       "    .dataframe tbody tr th:only-of-type {\n",
       "        vertical-align: middle;\n",
       "    }\n",
       "\n",
       "    .dataframe tbody tr th {\n",
       "        vertical-align: top;\n",
       "    }\n",
       "\n",
       "    .dataframe thead th {\n",
       "        text-align: right;\n",
       "    }\n",
       "</style>\n",
       "<table border=\"1\" class=\"dataframe\">\n",
       "  <thead>\n",
       "    <tr style=\"text-align: right;\">\n",
       "      <th></th>\n",
       "      <th>Area</th>\n",
       "      <th>Poblacion</th>\n",
       "      <th>Densidad</th>\n",
       "      <th>Densidad Calculada</th>\n",
       "      <th>Error Aprox</th>\n",
       "    </tr>\n",
       "  </thead>\n",
       "  <tbody>\n",
       "    <tr>\n",
       "      <th>Chihuahua</th>\n",
       "      <td>247455</td>\n",
       "      <td>3556574</td>\n",
       "      <td>14</td>\n",
       "      <td>14.372609</td>\n",
       "      <td>2.592495e+00</td>\n",
       "    </tr>\n",
       "    <tr>\n",
       "      <th>Sonora</th>\n",
       "      <td>179355</td>\n",
       "      <td>2850330</td>\n",
       "      <td>16</td>\n",
       "      <td>15.892113</td>\n",
       "      <td>6.788688e-01</td>\n",
       "    </tr>\n",
       "    <tr>\n",
       "      <th>Coahuila</th>\n",
       "      <td>151562</td>\n",
       "      <td>2954915</td>\n",
       "      <td>19</td>\n",
       "      <td>19.496411</td>\n",
       "      <td>2.546165e+00</td>\n",
       "    </tr>\n",
       "    <tr>\n",
       "      <th>Durango</th>\n",
       "      <td>123317</td>\n",
       "      <td>1754754</td>\n",
       "      <td>14</td>\n",
       "      <td>14.229620</td>\n",
       "      <td>1.613673e+00</td>\n",
       "    </tr>\n",
       "    <tr>\n",
       "      <th>Oaxaca</th>\n",
       "      <td>93757</td>\n",
       "      <td>3967889</td>\n",
       "      <td>42</td>\n",
       "      <td>42.320989</td>\n",
       "      <td>7.584638e-01</td>\n",
       "    </tr>\n",
       "    <tr>\n",
       "      <th>Tamaulipas</th>\n",
       "      <td>80249</td>\n",
       "      <td>43</td>\n",
       "      <td>3441698</td>\n",
       "      <td>0.000536</td>\n",
       "      <td>6.423089e+11</td>\n",
       "    </tr>\n",
       "    <tr>\n",
       "      <th>Jalisco</th>\n",
       "      <td>78588</td>\n",
       "      <td>100</td>\n",
       "      <td>7844830</td>\n",
       "      <td>0.001272</td>\n",
       "      <td>6.165095e+11</td>\n",
       "    </tr>\n",
       "    <tr>\n",
       "      <th>Zacatecas</th>\n",
       "      <td>75284</td>\n",
       "      <td>21</td>\n",
       "      <td>1579209</td>\n",
       "      <td>0.000279</td>\n",
       "      <td>5.661389e+11</td>\n",
       "    </tr>\n",
       "    <tr>\n",
       "      <th>Baja California Sur</th>\n",
       "      <td>73909</td>\n",
       "      <td>10</td>\n",
       "      <td>712029</td>\n",
       "      <td>0.000135</td>\n",
       "      <td>5.262535e+11</td>\n",
       "    </tr>\n",
       "    <tr>\n",
       "      <th>Chiapas</th>\n",
       "      <td>73311</td>\n",
       "      <td>71</td>\n",
       "      <td>5217908</td>\n",
       "      <td>0.000968</td>\n",
       "      <td>5.387747e+11</td>\n",
       "    </tr>\n",
       "  </tbody>\n",
       "</table>\n",
       "</div>"
      ],
      "text/plain": [
       "                       Area  Poblacion  Densidad  Densidad Calculada  \\\n",
       "Chihuahua            247455    3556574        14           14.372609   \n",
       "Sonora               179355    2850330        16           15.892113   \n",
       "Coahuila             151562    2954915        19           19.496411   \n",
       "Durango              123317    1754754        14           14.229620   \n",
       "Oaxaca                93757    3967889        42           42.320989   \n",
       "Tamaulipas            80249         43   3441698            0.000536   \n",
       "Jalisco               78588        100   7844830            0.001272   \n",
       "Zacatecas             75284         21   1579209            0.000279   \n",
       "Baja California Sur   73909         10    712029            0.000135   \n",
       "Chiapas               73311         71   5217908            0.000968   \n",
       "\n",
       "                      Error Aprox  \n",
       "Chihuahua            2.592495e+00  \n",
       "Sonora               6.788688e-01  \n",
       "Coahuila             2.546165e+00  \n",
       "Durango              1.613673e+00  \n",
       "Oaxaca               7.584638e-01  \n",
       "Tamaulipas           6.423089e+11  \n",
       "Jalisco              6.165095e+11  \n",
       "Zacatecas            5.661389e+11  \n",
       "Baja California Sur  5.262535e+11  \n",
       "Chiapas              5.387747e+11  "
      ]
     },
     "execution_count": 79,
     "metadata": {},
     "output_type": "execute_result"
    }
   ],
   "source": [
    "estados"
   ]
  },
  {
   "cell_type": "code",
   "execution_count": 80,
   "metadata": {},
   "outputs": [
    {
     "data": {
      "text/plain": [
       "['Error Aprox', 'Densidad', 'Densidad Calculada', 'Area', 'Poblacion']"
      ]
     },
     "execution_count": 80,
     "metadata": {},
     "output_type": "execute_result"
    }
   ],
   "source": [
    "cols = ['Error Aprox', 'Densidad', 'Densidad Calculada', 'Area', 'Poblacion']\n",
    "cols"
   ]
  },
  {
   "cell_type": "code",
   "execution_count": 81,
   "metadata": {},
   "outputs": [
    {
     "data": {
      "text/plain": [
       "Index(['Area', 'Poblacion', 'Densidad', 'Densidad Calculada', 'Error Aprox'], dtype='object')"
      ]
     },
     "execution_count": 81,
     "metadata": {},
     "output_type": "execute_result"
    }
   ],
   "source": [
    "estados.columns"
   ]
  },
  {
   "cell_type": "code",
   "execution_count": 82,
   "metadata": {},
   "outputs": [
    {
     "data": {
      "text/html": [
       "<div>\n",
       "<style scoped>\n",
       "    .dataframe tbody tr th:only-of-type {\n",
       "        vertical-align: middle;\n",
       "    }\n",
       "\n",
       "    .dataframe tbody tr th {\n",
       "        vertical-align: top;\n",
       "    }\n",
       "\n",
       "    .dataframe thead th {\n",
       "        text-align: right;\n",
       "    }\n",
       "</style>\n",
       "<table border=\"1\" class=\"dataframe\">\n",
       "  <thead>\n",
       "    <tr style=\"text-align: right;\">\n",
       "      <th></th>\n",
       "      <th>Error Aprox</th>\n",
       "      <th>Densidad</th>\n",
       "      <th>Poblacion</th>\n",
       "      <th>Area</th>\n",
       "      <th>Densidad Calculada</th>\n",
       "    </tr>\n",
       "  </thead>\n",
       "  <tbody>\n",
       "    <tr>\n",
       "      <th>Chihuahua</th>\n",
       "      <td>2.592495e+00</td>\n",
       "      <td>14</td>\n",
       "      <td>3556574</td>\n",
       "      <td>247455</td>\n",
       "      <td>14.372609</td>\n",
       "    </tr>\n",
       "    <tr>\n",
       "      <th>Sonora</th>\n",
       "      <td>6.788688e-01</td>\n",
       "      <td>16</td>\n",
       "      <td>2850330</td>\n",
       "      <td>179355</td>\n",
       "      <td>15.892113</td>\n",
       "    </tr>\n",
       "    <tr>\n",
       "      <th>Coahuila</th>\n",
       "      <td>2.546165e+00</td>\n",
       "      <td>19</td>\n",
       "      <td>2954915</td>\n",
       "      <td>151562</td>\n",
       "      <td>19.496411</td>\n",
       "    </tr>\n",
       "    <tr>\n",
       "      <th>Durango</th>\n",
       "      <td>1.613673e+00</td>\n",
       "      <td>14</td>\n",
       "      <td>1754754</td>\n",
       "      <td>123317</td>\n",
       "      <td>14.229620</td>\n",
       "    </tr>\n",
       "    <tr>\n",
       "      <th>Oaxaca</th>\n",
       "      <td>7.584638e-01</td>\n",
       "      <td>42</td>\n",
       "      <td>3967889</td>\n",
       "      <td>93757</td>\n",
       "      <td>42.320989</td>\n",
       "    </tr>\n",
       "    <tr>\n",
       "      <th>Tamaulipas</th>\n",
       "      <td>6.423089e+11</td>\n",
       "      <td>3441698</td>\n",
       "      <td>43</td>\n",
       "      <td>80249</td>\n",
       "      <td>0.000536</td>\n",
       "    </tr>\n",
       "    <tr>\n",
       "      <th>Jalisco</th>\n",
       "      <td>6.165095e+11</td>\n",
       "      <td>7844830</td>\n",
       "      <td>100</td>\n",
       "      <td>78588</td>\n",
       "      <td>0.001272</td>\n",
       "    </tr>\n",
       "    <tr>\n",
       "      <th>Zacatecas</th>\n",
       "      <td>5.661389e+11</td>\n",
       "      <td>1579209</td>\n",
       "      <td>21</td>\n",
       "      <td>75284</td>\n",
       "      <td>0.000279</td>\n",
       "    </tr>\n",
       "    <tr>\n",
       "      <th>Baja California Sur</th>\n",
       "      <td>5.262535e+11</td>\n",
       "      <td>712029</td>\n",
       "      <td>10</td>\n",
       "      <td>73909</td>\n",
       "      <td>0.000135</td>\n",
       "    </tr>\n",
       "    <tr>\n",
       "      <th>Chiapas</th>\n",
       "      <td>5.387747e+11</td>\n",
       "      <td>5217908</td>\n",
       "      <td>71</td>\n",
       "      <td>73311</td>\n",
       "      <td>0.000968</td>\n",
       "    </tr>\n",
       "  </tbody>\n",
       "</table>\n",
       "</div>"
      ],
      "text/plain": [
       "                      Error Aprox  Densidad  Poblacion    Area  \\\n",
       "Chihuahua            2.592495e+00        14    3556574  247455   \n",
       "Sonora               6.788688e-01        16    2850330  179355   \n",
       "Coahuila             2.546165e+00        19    2954915  151562   \n",
       "Durango              1.613673e+00        14    1754754  123317   \n",
       "Oaxaca               7.584638e-01        42    3967889   93757   \n",
       "Tamaulipas           6.423089e+11   3441698         43   80249   \n",
       "Jalisco              6.165095e+11   7844830        100   78588   \n",
       "Zacatecas            5.661389e+11   1579209         21   75284   \n",
       "Baja California Sur  5.262535e+11    712029         10   73909   \n",
       "Chiapas              5.387747e+11   5217908         71   73311   \n",
       "\n",
       "                     Densidad Calculada  \n",
       "Chihuahua                     14.372609  \n",
       "Sonora                        15.892113  \n",
       "Coahuila                      19.496411  \n",
       "Durango                       14.229620  \n",
       "Oaxaca                        42.320989  \n",
       "Tamaulipas                     0.000536  \n",
       "Jalisco                        0.001272  \n",
       "Zacatecas                      0.000279  \n",
       "Baja California Sur            0.000135  \n",
       "Chiapas                        0.000968  "
      ]
     },
     "execution_count": 82,
     "metadata": {},
     "output_type": "execute_result"
    }
   ],
   "source": [
    "estados = estados[cols]\n",
    "estados = estados[['Error Aprox', 'Densidad', 'Poblacion', 'Area', 'Densidad Calculada']]\n",
    "estados"
   ]
  },
  {
   "cell_type": "markdown",
   "metadata": {},
   "source": [
    "# Función describe."
   ]
  },
  {
   "cell_type": "code",
   "execution_count": 83,
   "metadata": {},
   "outputs": [
    {
     "data": {
      "text/html": [
       "<div>\n",
       "<style scoped>\n",
       "    .dataframe tbody tr th:only-of-type {\n",
       "        vertical-align: middle;\n",
       "    }\n",
       "\n",
       "    .dataframe tbody tr th {\n",
       "        vertical-align: top;\n",
       "    }\n",
       "\n",
       "    .dataframe thead th {\n",
       "        text-align: right;\n",
       "    }\n",
       "</style>\n",
       "<table border=\"1\" class=\"dataframe\">\n",
       "  <thead>\n",
       "    <tr style=\"text-align: right;\">\n",
       "      <th></th>\n",
       "      <th>Error Aprox</th>\n",
       "      <th>Densidad</th>\n",
       "      <th>Poblacion</th>\n",
       "      <th>Area</th>\n",
       "      <th>Densidad Calculada</th>\n",
       "    </tr>\n",
       "  </thead>\n",
       "  <tbody>\n",
       "    <tr>\n",
       "      <th>count</th>\n",
       "      <td>1.000000e+01</td>\n",
       "      <td>1.000000e+01</td>\n",
       "      <td>1.000000e+01</td>\n",
       "      <td>10.000000</td>\n",
       "      <td>10.000000</td>\n",
       "    </tr>\n",
       "    <tr>\n",
       "      <th>mean</th>\n",
       "      <td>2.889986e+11</td>\n",
       "      <td>1.879578e+06</td>\n",
       "      <td>1.508471e+06</td>\n",
       "      <td>117678.700000</td>\n",
       "      <td>10.631493</td>\n",
       "    </tr>\n",
       "    <tr>\n",
       "      <th>std</th>\n",
       "      <td>3.064451e+11</td>\n",
       "      <td>2.754511e+06</td>\n",
       "      <td>1.685678e+06</td>\n",
       "      <td>58697.553894</td>\n",
       "      <td>13.753799</td>\n",
       "    </tr>\n",
       "    <tr>\n",
       "      <th>min</th>\n",
       "      <td>6.788688e-01</td>\n",
       "      <td>1.400000e+01</td>\n",
       "      <td>1.000000e+01</td>\n",
       "      <td>73311.000000</td>\n",
       "      <td>0.000135</td>\n",
       "    </tr>\n",
       "    <tr>\n",
       "      <th>25%</th>\n",
       "      <td>1.846796e+00</td>\n",
       "      <td>1.675000e+01</td>\n",
       "      <td>5.000000e+01</td>\n",
       "      <td>76110.000000</td>\n",
       "      <td>0.000644</td>\n",
       "    </tr>\n",
       "    <tr>\n",
       "      <th>50%</th>\n",
       "      <td>2.631268e+11</td>\n",
       "      <td>3.560355e+05</td>\n",
       "      <td>8.774270e+05</td>\n",
       "      <td>87003.000000</td>\n",
       "      <td>7.115446</td>\n",
       "    </tr>\n",
       "    <tr>\n",
       "      <th>75%</th>\n",
       "      <td>5.592979e+11</td>\n",
       "      <td>2.976076e+06</td>\n",
       "      <td>2.928769e+06</td>\n",
       "      <td>144500.750000</td>\n",
       "      <td>15.512237</td>\n",
       "    </tr>\n",
       "    <tr>\n",
       "      <th>max</th>\n",
       "      <td>6.423089e+11</td>\n",
       "      <td>7.844830e+06</td>\n",
       "      <td>3.967889e+06</td>\n",
       "      <td>247455.000000</td>\n",
       "      <td>42.320989</td>\n",
       "    </tr>\n",
       "  </tbody>\n",
       "</table>\n",
       "</div>"
      ],
      "text/plain": [
       "        Error Aprox      Densidad     Poblacion           Area  \\\n",
       "count  1.000000e+01  1.000000e+01  1.000000e+01      10.000000   \n",
       "mean   2.889986e+11  1.879578e+06  1.508471e+06  117678.700000   \n",
       "std    3.064451e+11  2.754511e+06  1.685678e+06   58697.553894   \n",
       "min    6.788688e-01  1.400000e+01  1.000000e+01   73311.000000   \n",
       "25%    1.846796e+00  1.675000e+01  5.000000e+01   76110.000000   \n",
       "50%    2.631268e+11  3.560355e+05  8.774270e+05   87003.000000   \n",
       "75%    5.592979e+11  2.976076e+06  2.928769e+06  144500.750000   \n",
       "max    6.423089e+11  7.844830e+06  3.967889e+06  247455.000000   \n",
       "\n",
       "       Densidad Calculada  \n",
       "count           10.000000  \n",
       "mean            10.631493  \n",
       "std             13.753799  \n",
       "min              0.000135  \n",
       "25%              0.000644  \n",
       "50%              7.115446  \n",
       "75%             15.512237  \n",
       "max             42.320989  "
      ]
     },
     "execution_count": 83,
     "metadata": {},
     "output_type": "execute_result"
    }
   ],
   "source": [
    "estados.describe()"
   ]
  },
  {
   "cell_type": "markdown",
   "metadata": {},
   "source": [
    "# Graficar columnas de forma sencilla."
   ]
  },
  {
   "cell_type": "code",
   "execution_count": 84,
   "metadata": {},
   "outputs": [],
   "source": [
    "import matplotlib.pyplot as plt\n",
    "%matplotlib inline"
   ]
  },
  {
   "cell_type": "code",
   "execution_count": 85,
   "metadata": {},
   "outputs": [
    {
     "data": {
      "image/png": "[encoded data removed]",
      "text/plain": [
       "<Figure size 640x480 with 1 Axes>"
      ]
     },
     "metadata": {},
     "output_type": "display_data"
    }
   ],
   "source": [
    "fig = plt.figure()\n",
    "plt.bar(estados.index, estados['Poblacion'])\n",
    "plt.xticks(rotation='vertical')\n",
    "plt.show()"
   ]
  },
  {
   "cell_type": "code",
   "execution_count": 86,
   "metadata": {},
   "outputs": [
    {
     "data": {
      "image/png": "[encoded data removed]",
      "text/plain": [
       "<Figure size 640x480 with 1 Axes>"
      ]
     },
     "metadata": {},
     "output_type": "display_data"
    }
   ],
   "source": [
    "fig = plt.figure()\n",
    "plt.bar(estados.index, estados['Area'])\n",
    "plt.xticks(rotation='vertical')\n",
    "plt.show()"
   ]
  },
  {
   "cell_type": "code",
   "execution_count": 87,
   "metadata": {},
   "outputs": [
    {
     "data": {
      "image/png": "[encoded data removed]",
      "text/plain": [
       "<Figure size 640x480 with 1 Axes>"
      ]
     },
     "metadata": {},
     "output_type": "display_data"
    }
   ],
   "source": [
    "fig = plt.figure()\n",
    "plt.boxplot(estados['Densidad'])\n",
    "plt.show()"
   ]
  }
 ],
 "metadata": {
  "kernelspec": {
   "display_name": "Python 3 (ipykernel)",
   "language": "python",
   "name": "python3"
  },
  "language_info": {
   "codemirror_mode": {
    "name": "ipython",
    "version": 3
   },
   "file_extension": ".py",
   "mimetype": "text/x-python",
   "name": "python",
   "nbconvert_exporter": "python",
   "pygments_lexer": "ipython3",
   "version": "3.12.4"
  }
 },
 "nbformat": 4,
 "nbformat_minor": 2
}
