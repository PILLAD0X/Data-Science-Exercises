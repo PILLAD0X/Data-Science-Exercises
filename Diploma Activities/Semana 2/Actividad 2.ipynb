{
 "cells": [
  {
   "cell_type": "markdown",
   "metadata": {},
   "source": [
    "__Instrucción 1__\n",
    "\n",
    "<p style='text-align: justify;'>Importa la paquetería de Pandas y abre el archivo \"df_act2.csv\" en tu libreta de Jupyter.</p>"
   ]
  },
  {
   "cell_type": "code",
   "execution_count": null,
   "metadata": {},
   "outputs": [],
   "source": []
  },
  {
   "cell_type": "markdown",
   "metadata": {},
   "source": [
    "__Instrucción 2__\n",
    "\n",
    "<p style='text-align: justify;'>Utiliza la función df.columns = df.iloc[0] para convertir la primera fila en el encabezado de la tabla. Una vez hecho esto, retira la fila convertida en encabezado con la función df = df.drop(df.index[0]).</p>"
   ]
  },
  {
   "cell_type": "code",
   "execution_count": null,
   "metadata": {},
   "outputs": [],
   "source": []
  },
  {
   "cell_type": "markdown",
   "metadata": {},
   "source": [
    "__Instrucción 3__\n",
    "\n",
    "<p style='text-align: justify;'>Muestra las primeras cinco filas de la tabla.</p>"
   ]
  },
  {
   "cell_type": "code",
   "execution_count": null,
   "metadata": {},
   "outputs": [],
   "source": []
  },
  {
   "cell_type": "markdown",
   "metadata": {},
   "source": [
    "__Instrucción 4__\n",
    "\n",
    "<p style='text-align: justify;'>Debido a que algunos de los datos de la tabla son registros vacíos y los números están acompañados del símbolos de porcentaje, es necesario que realices una limpieza de estos datos.\n",
    "    \n",
    "Utiliza las funciones \"dropna\" y \"replace\" de la paquetería \"Pandas\" para realizarlo.\n",
    "Después, muestra las primeras 5 filas de la nueva tabla..</p>\n",
    "\n",
    "\n",
    "Ejemplo de sintaxis de la función \"dropna\": __df_drop_1 = df.dropna()__.\n",
    "\n",
    "Ejemplo de sintaxis de la función \"replace\": __df = df.replace({\"\"'%':\"\"}, regex = True)__."
   ]
  },
  {
   "cell_type": "code",
   "execution_count": null,
   "metadata": {},
   "outputs": [],
   "source": []
  },
  {
   "cell_type": "markdown",
   "metadata": {},
   "source": [
    "__Instrucción 5__\n",
    "\n",
    "<p style='text-align: justify;'>Utiliza la función \"drop\" de \"Pandas\" para eliminar la columna \"year\" y así simplificar más tu conjunto de datos\".\n",
    "\n",
    "Después, muestra las cinco primeras filas de tu nueva tabla.</p>\n",
    "\n",
    "Ejemplo de sintaxis de la función \"drop\": __df_drop_1 = df_drop_1.drop(columns=['Nombre de la columna'])__"
   ]
  },
  {
   "cell_type": "code",
   "execution_count": null,
   "metadata": {},
   "outputs": [],
   "source": []
  },
  {
   "cell_type": "markdown",
   "metadata": {},
   "source": [
    "__Instrucción 6__\n",
    "\n",
    "<p style='text-align: justify;'>Utiliza la función \"to_csv\" de \"Pandas\" para generar un archivo .csv con la información obtenida en el punto 4. Ejemplo de la sintaxis de la función anterior: df.to_csv(\"df_tratada_NombreDelAlumno.csv\").</p>"
   ]
  },
  {
   "cell_type": "code",
   "execution_count": null,
   "metadata": {},
   "outputs": [],
   "source": []
  },
  {
   "cell_type": "markdown",
   "metadata": {},
   "source": [
    "__Instrucción 7__\n",
    "\n",
    "<p style='text-align: justify;'>Guarda tu libreta de Jupyter e integrala en un archivo .zip junto con el archivo .csv generado. Después cárgala a la plataforma de Canvas.</p>"
   ]
  }
 ],
 "metadata": {
  "kernelspec": {
   "display_name": "Python 3",
   "language": "python",
   "name": "python3"
  },
  "language_info": {
   "codemirror_mode": {
    "name": "ipython",
    "version": 3
   },
   "file_extension": ".py",
   "mimetype": "text/x-python",
   "name": "python",
   "nbconvert_exporter": "python",
   "pygments_lexer": "ipython3",
   "version": "3.7.1"
  }
 },
 "nbformat": 4,
 "nbformat_minor": 2
}
